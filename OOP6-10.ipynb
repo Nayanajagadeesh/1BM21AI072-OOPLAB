{
 "cells": [
  {
   "cell_type": "markdown",
   "id": "f9fdc76d",
   "metadata": {},
   "source": [
    "6a"
   ]
  },
  {
   "cell_type": "code",
   "execution_count": 1,
   "id": "8ac90e77",
   "metadata": {},
   "outputs": [
    {
     "name": "stdout",
     "output_type": "stream",
     "text": [
      "Enter father's age:76\n",
      "Enter son's age98\n",
      "error Sons ang should not be greater than fathers age\n"
     ]
    }
   ],
   "source": [
    "class wrongage(Exception):\n",
    "    def __init__(self,message=\"Age cannot be negative\"):\n",
    "        self.message=message\n",
    "        super().__init__(self.message)\n",
    "    \n",
    "class ageinvalid(Exception):\n",
    "    def __init__(self,message=\"Sons age should not be greater than fathers age\"):\n",
    "        self.message=message\n",
    "        super().__init__(self.message)\n",
    "\n",
    "class Father:\n",
    "    def __init__(self,age):\n",
    "        if age<0:\n",
    "            raise wrongage()\n",
    "        self.age=age\n",
    "        \n",
    "class Son(Father):\n",
    "    def __init__(self,father_age,son_age):\n",
    "        super().__init__(father_age)\n",
    "        if son_age>=father_age:\n",
    "            raise ageinvalid()\n",
    "        self.son_age=son_age\n",
    "\n",
    "try:\n",
    "    father_age=int(input(\"Enter father's age:\"))\n",
    "    father=Father(father_age)\n",
    "    \n",
    "    son_age=int(input(\"Enter son's age\"))\n",
    "    son=Son(father_age,son_age)\n",
    "    \n",
    "    print(\"Fathers age:\",father.age)\n",
    "    print(\"Son's age:\",son.son_age)\n",
    "    \n",
    "except wrongage as e:\n",
    "    print(\"error\",e)\n",
    "    \n",
    "except ageinvalid as e:\n",
    "    print(\"error\",e)\n",
    "    \n",
    "    "
   ]
  },
  {
   "cell_type": "markdown",
   "id": "e81518a3",
   "metadata": {},
   "source": [
    "6b"
   ]
  },
  {
   "cell_type": "code",
   "execution_count": 3,
   "id": "9b5c9716",
   "metadata": {},
   "outputs": [
    {
     "name": "stdout",
     "output_type": "stream",
     "text": [
      "Enter a formula (eg 1+1) or type. 'quit' to exit1+5\n",
      "error Invalid formula.Please provide a formula with two numbers and one operator separated by spaces.\n",
      "Enter a formula (eg 1+1) or type. 'quit' to exit1 + 6\n",
      "Result: 7.0\n",
      "Enter a formula (eg 1+1) or type. 'quit' to exitquit\n",
      "Exiting the calculator\n"
     ]
    }
   ],
   "source": [
    "class FormulaError(Exception):\n",
    "    pass\n",
    "\n",
    "def calculate(formula):\n",
    "    try:\n",
    "        components=formula.split()\n",
    "        if len(components)!=3:\n",
    "            raise FormulaError(\"Invalid formula.Please provide a formula with two numbers and one operator separated by spaces.\")\n",
    "        num1,operator,num2=components\n",
    "        try:\n",
    "            num1=float(num1)\n",
    "            num2=float(num2)\n",
    "        except ValueError:\n",
    "            raise FormulaError(\"Invalid number format.please provide a valid numbers\")\n",
    "            \n",
    "        if operator not in['+','-']:\n",
    "            raise FormulaError(\"invalid operator.only '+' and '-'  are supported\")\n",
    "        \n",
    "        if operator=='+':\n",
    "            result=num1 + num2\n",
    "        else:\n",
    "            result=num1-num2\n",
    "            \n",
    "        return result\n",
    "    except FormulaError as e:\n",
    "        print(\"error\",e)\n",
    "        \n",
    "def main():\n",
    "    while True:\n",
    "        formula=input(\"Enter a formula (eg 1+1) or type. 'quit' to exit\")\n",
    "        if formula.lower()=='quit':\n",
    "            print(\"Exiting the calculator\")\n",
    "            break\n",
    "        \n",
    "        result=calculate(formula)\n",
    "        if result is not None:\n",
    "            print(\"Result:\",result)\n",
    "            \n",
    "if __name__==\"__main__\":\n",
    "    main()"
   ]
  },
  {
   "cell_type": "markdown",
   "id": "67f8c144",
   "metadata": {},
   "source": [
    "7"
   ]
  },
  {
   "cell_type": "code",
   "execution_count": 5,
   "id": "db05ef8d",
   "metadata": {},
   "outputs": [
    {
     "name": "stdout",
     "output_type": "stream",
     "text": [
      "Collecting pygame\n",
      "  Downloading pygame-2.5.2-cp39-cp39-macosx_10_9_x86_64.whl (12.8 MB)\n",
      "\u001b[2K     \u001b[90m━━━━━━━━━━━━━━━━━━━━━━━━━━━━━━━━━━━━━━━━\u001b[0m \u001b[32m12.8/12.8 MB\u001b[0m \u001b[31m13.0 MB/s\u001b[0m eta \u001b[36m0:00:00\u001b[0m00:01\u001b[0m00:01\u001b[0m\n",
      "\u001b[?25hInstalling collected packages: pygame\n",
      "Successfully installed pygame-2.5.2\n",
      "Note: you may need to restart the kernel to use updated packages.\n"
     ]
    }
   ],
   "source": [
    "pip install pygame"
   ]
  },
  {
   "cell_type": "code",
   "execution_count": 1,
   "id": "d036ae9c",
   "metadata": {},
   "outputs": [
    {
     "name": "stdout",
     "output_type": "stream",
     "text": [
      "pygame 2.5.2 (SDL 2.28.3, Python 3.9.15)\n",
      "Hello from the pygame community. https://www.pygame.org/contribute.html\n"
     ]
    },
    {
     "ename": "SystemExit",
     "evalue": "",
     "output_type": "error",
     "traceback": [
      "An exception has occurred, use %tb to see the full traceback.\n",
      "\u001b[0;31mSystemExit\u001b[0m\n"
     ]
    },
    {
     "name": "stderr",
     "output_type": "stream",
     "text": [
      "/Users/nayana/miniconda3/envs/av/lib/python3.9/site-packages/IPython/core/interactiveshell.py:3465: UserWarning: To exit: use 'exit', 'quit', or Ctrl-D.\n",
      "  warn(\"To exit: use 'exit', 'quit', or Ctrl-D.\", stacklevel=1)\n"
     ]
    }
   ],
   "source": [
    "import pygame\n",
    "import sys\n",
    "\n",
    "# Initialize Pygame\n",
    "pygame.init()\n",
    "\n",
    "# Set up the screen\n",
    "screen_width = 400\n",
    "screen_height = 400\n",
    "screen = pygame.display.set_mode((screen_width, screen_height))\n",
    "pygame.display.set_caption(\"Shapes Drawing\")\n",
    "\n",
    "# Define colors\n",
    "BLUE = (0, 0, 255)\n",
    "GREEN = (0, 255, 0)\n",
    "BLACK = (0, 0, 0)\n",
    "\n",
    "# Run the game loop\n",
    "while True:\n",
    "    # Handle events\n",
    "    for event in pygame.event.get():\n",
    "        if event.type == pygame.QUIT:\n",
    "            pygame.quit()\n",
    "            sys.exit()\n",
    "\n",
    "    # Clear the screen\n",
    "    screen.fill((255, 255, 255))\n",
    "\n",
    "    # Draw shapes\n",
    "    # 1. Polygon\n",
    "    pygame.draw.polygon(screen, BLUE, [(146, 0), (291, 106), (236, 277), (56, 277), (0, 106)])\n",
    "\n",
    "    # 2. Line\n",
    "    pygame.draw.line(screen, GREEN, (60, 300), (120, 300), 4)\n",
    "\n",
    "    # 3. Circle\n",
    "    pygame.draw.circle(screen, GREEN, (300, 50), 20)\n",
    "\n",
    "    # 4. Ellipse\n",
    "    pygame.draw.ellipse(screen, BLACK, (300, 250, 40, 80), 1)\n",
    "\n",
    "    # 5. Rectangle\n",
    "    pygame.draw.rect(screen, BLACK, (150, 300, 100, 50))\n",
    "\n",
    "    # Update the display\n",
    "    pygame.display.update()\n"
   ]
  },
  {
   "cell_type": "markdown",
   "id": "30690a19",
   "metadata": {},
   "source": [
    "8"
   ]
  },
  {
   "cell_type": "code",
   "execution_count": 1,
   "id": "f0617f51",
   "metadata": {},
   "outputs": [
    {
     "name": "stdout",
     "output_type": "stream",
     "text": [
      "Square of 92 is 8464\n",
      "Square of 18 is 324\n",
      "Cube of 95 is 857375\n",
      "Cube of 59 is 205379\n"
     ]
    },
    {
     "ename": "KeyboardInterrupt",
     "evalue": "",
     "output_type": "error",
     "traceback": [
      "\u001b[0;31m---------------------------------------------------------------------------\u001b[0m",
      "\u001b[0;31mKeyboardInterrupt\u001b[0m                         Traceback (most recent call last)",
      "\u001b[0;32m/var/folders/kq/dv_cs8dj0tb8x609wyg5lln40000gn/T/ipykernel_86653/2103612757.py\u001b[0m in \u001b[0;36m<module>\u001b[0;34m\u001b[0m\n\u001b[1;32m     43\u001b[0m \u001b[0;34m\u001b[0m\u001b[0m\n\u001b[1;32m     44\u001b[0m \u001b[0;31m# Wait for threads to finish\u001b[0m\u001b[0;34m\u001b[0m\u001b[0;34m\u001b[0m\u001b[0m\n\u001b[0;32m---> 45\u001b[0;31m \u001b[0mthread1\u001b[0m\u001b[0;34m.\u001b[0m\u001b[0mjoin\u001b[0m\u001b[0;34m(\u001b[0m\u001b[0;34m)\u001b[0m\u001b[0;34m\u001b[0m\u001b[0;34m\u001b[0m\u001b[0m\n\u001b[0m\u001b[1;32m     46\u001b[0m \u001b[0mthread2\u001b[0m\u001b[0;34m.\u001b[0m\u001b[0mjoin\u001b[0m\u001b[0;34m(\u001b[0m\u001b[0;34m)\u001b[0m\u001b[0;34m\u001b[0m\u001b[0;34m\u001b[0m\u001b[0m\n\u001b[1;32m     47\u001b[0m \u001b[0mthread3\u001b[0m\u001b[0;34m.\u001b[0m\u001b[0mjoin\u001b[0m\u001b[0;34m(\u001b[0m\u001b[0;34m)\u001b[0m\u001b[0;34m\u001b[0m\u001b[0;34m\u001b[0m\u001b[0m\n",
      "\u001b[0;32m~/miniconda3/envs/av/lib/python3.9/threading.py\u001b[0m in \u001b[0;36mjoin\u001b[0;34m(self, timeout)\u001b[0m\n\u001b[1;32m   1058\u001b[0m \u001b[0;34m\u001b[0m\u001b[0m\n\u001b[1;32m   1059\u001b[0m         \u001b[0;32mif\u001b[0m \u001b[0mtimeout\u001b[0m \u001b[0;32mis\u001b[0m \u001b[0;32mNone\u001b[0m\u001b[0;34m:\u001b[0m\u001b[0;34m\u001b[0m\u001b[0;34m\u001b[0m\u001b[0m\n\u001b[0;32m-> 1060\u001b[0;31m             \u001b[0mself\u001b[0m\u001b[0;34m.\u001b[0m\u001b[0m_wait_for_tstate_lock\u001b[0m\u001b[0;34m(\u001b[0m\u001b[0;34m)\u001b[0m\u001b[0;34m\u001b[0m\u001b[0;34m\u001b[0m\u001b[0m\n\u001b[0m\u001b[1;32m   1061\u001b[0m         \u001b[0;32melse\u001b[0m\u001b[0;34m:\u001b[0m\u001b[0;34m\u001b[0m\u001b[0;34m\u001b[0m\u001b[0m\n\u001b[1;32m   1062\u001b[0m             \u001b[0;31m# the behavior of a negative timeout isn't documented, but\u001b[0m\u001b[0;34m\u001b[0m\u001b[0;34m\u001b[0m\u001b[0m\n",
      "\u001b[0;32m~/miniconda3/envs/av/lib/python3.9/threading.py\u001b[0m in \u001b[0;36m_wait_for_tstate_lock\u001b[0;34m(self, block, timeout)\u001b[0m\n\u001b[1;32m   1078\u001b[0m \u001b[0;34m\u001b[0m\u001b[0m\n\u001b[1;32m   1079\u001b[0m         \u001b[0;32mtry\u001b[0m\u001b[0;34m:\u001b[0m\u001b[0;34m\u001b[0m\u001b[0;34m\u001b[0m\u001b[0m\n\u001b[0;32m-> 1080\u001b[0;31m             \u001b[0;32mif\u001b[0m \u001b[0mlock\u001b[0m\u001b[0;34m.\u001b[0m\u001b[0macquire\u001b[0m\u001b[0;34m(\u001b[0m\u001b[0mblock\u001b[0m\u001b[0;34m,\u001b[0m \u001b[0mtimeout\u001b[0m\u001b[0;34m)\u001b[0m\u001b[0;34m:\u001b[0m\u001b[0;34m\u001b[0m\u001b[0;34m\u001b[0m\u001b[0m\n\u001b[0m\u001b[1;32m   1081\u001b[0m                 \u001b[0mlock\u001b[0m\u001b[0;34m.\u001b[0m\u001b[0mrelease\u001b[0m\u001b[0;34m(\u001b[0m\u001b[0;34m)\u001b[0m\u001b[0;34m\u001b[0m\u001b[0;34m\u001b[0m\u001b[0m\n\u001b[1;32m   1082\u001b[0m                 \u001b[0mself\u001b[0m\u001b[0;34m.\u001b[0m\u001b[0m_stop\u001b[0m\u001b[0;34m(\u001b[0m\u001b[0;34m)\u001b[0m\u001b[0;34m\u001b[0m\u001b[0;34m\u001b[0m\u001b[0m\n",
      "\u001b[0;31mKeyboardInterrupt\u001b[0m: "
     ]
    }
   ],
   "source": [
    "import threading\n",
    "import random\n",
    "import time\n",
    "import queue\n",
    "\n",
    "# Queue to communicate between threads\n",
    "result_queue = queue.Queue()\n",
    "\n",
    "# Function to generate random numbers and put them into the queue\n",
    "def generate_random():\n",
    "    while True:\n",
    "        num = random.randint(1, 100)\n",
    "        result_queue.put(num)\n",
    "        time.sleep(1)\n",
    "\n",
    "# Function to compute square of even numbers\n",
    "def compute_square():\n",
    "    while True:\n",
    "        num = result_queue.get()\n",
    "        if num % 2 == 0:\n",
    "            square = num ** 2\n",
    "            print(\"Square of\", num, \"is\", square)\n",
    "        result_queue.task_done()\n",
    "\n",
    "# Function to compute cube of odd numbers\n",
    "def compute_cube():\n",
    "    while True:\n",
    "        num = result_queue.get()\n",
    "        if num % 2 != 0:\n",
    "            cube = num ** 3\n",
    "            print(\"Cube of\", num, \"is\", cube)\n",
    "        result_queue.task_done()\n",
    "\n",
    "# Create threads\n",
    "thread1 = threading.Thread(target=generate_random)\n",
    "thread2 = threading.Thread(target=compute_square)\n",
    "thread3 = threading.Thread(target=compute_cube)\n",
    "\n",
    "# Start threads\n",
    "thread1.start()\n",
    "thread2.start()\n",
    "thread3.start()\n",
    "\n",
    "# Wait for threads to finish\n",
    "thread1.join()\n",
    "thread2.join()\n",
    "thread3.join()\n"
   ]
  },
  {
   "cell_type": "markdown",
   "id": "7aa29bae",
   "metadata": {},
   "source": [
    "9"
   ]
  },
  {
   "cell_type": "code",
   "execution_count": 3,
   "id": "17b88ea0",
   "metadata": {},
   "outputs": [
    {
     "name": "stdout",
     "output_type": "stream",
     "text": [
      "Farmer produced Potato. Available in the market now: 1\n",
      "Farmer produced Carrot. Available in the market now: 2\n",
      "Farmer produced Tomato. Available in the market now: 3\n",
      "Consumer purchased Carrot. Remaining Carrots in the market: 2\n",
      "Consumer purchased Tomato. Remaining Tomatos in the market: 1\n",
      "Farmer produced Potato. Available in the market now: 2\n",
      "Farmer produced Tomato. Available in the market now: 3\n",
      "Farmer produced Carrot. Available in the market now: 4\n",
      "Cube of 7 is 343\n",
      "Consumer purchased Tomato. Remaining Tomatos in the market: 3\n",
      "Consumer purchased Potato. Remaining Potatos in the market: 2\n",
      "Farmer produced Potato. Available in the market now: 3\n",
      "Square of 12 is 144\n",
      "Farmer produced Carrot. Available in the market now: 4\n"
     ]
    },
    {
     "ename": "KeyboardInterrupt",
     "evalue": "",
     "output_type": "error",
     "traceback": [
      "\u001b[0;31m---------------------------------------------------------------------------\u001b[0m",
      "\u001b[0;31mKeyboardInterrupt\u001b[0m                         Traceback (most recent call last)",
      "\u001b[0;32m/var/folders/kq/dv_cs8dj0tb8x609wyg5lln40000gn/T/ipykernel_86653/2590834313.py\u001b[0m in \u001b[0;36m<module>\u001b[0;34m\u001b[0m\n\u001b[1;32m     64\u001b[0m \u001b[0;31m# Wait for all farmer threads to finish\u001b[0m\u001b[0;34m\u001b[0m\u001b[0;34m\u001b[0m\u001b[0m\n\u001b[1;32m     65\u001b[0m \u001b[0;32mfor\u001b[0m \u001b[0mthread_farmer\u001b[0m \u001b[0;32min\u001b[0m \u001b[0mthread_farmers\u001b[0m\u001b[0;34m:\u001b[0m\u001b[0;34m\u001b[0m\u001b[0;34m\u001b[0m\u001b[0m\n\u001b[0;32m---> 66\u001b[0;31m     \u001b[0mthread_farmer\u001b[0m\u001b[0;34m.\u001b[0m\u001b[0mjoin\u001b[0m\u001b[0;34m(\u001b[0m\u001b[0;34m)\u001b[0m\u001b[0;34m\u001b[0m\u001b[0;34m\u001b[0m\u001b[0m\n\u001b[0m\u001b[1;32m     67\u001b[0m \u001b[0;34m\u001b[0m\u001b[0m\n\u001b[1;32m     68\u001b[0m \u001b[0;31m# Wait for all consumer threads to finish\u001b[0m\u001b[0;34m\u001b[0m\u001b[0;34m\u001b[0m\u001b[0m\n",
      "\u001b[0;32m~/miniconda3/envs/av/lib/python3.9/threading.py\u001b[0m in \u001b[0;36mjoin\u001b[0;34m(self, timeout)\u001b[0m\n\u001b[1;32m   1058\u001b[0m \u001b[0;34m\u001b[0m\u001b[0m\n\u001b[1;32m   1059\u001b[0m         \u001b[0;32mif\u001b[0m \u001b[0mtimeout\u001b[0m \u001b[0;32mis\u001b[0m \u001b[0;32mNone\u001b[0m\u001b[0;34m:\u001b[0m\u001b[0;34m\u001b[0m\u001b[0;34m\u001b[0m\u001b[0m\n\u001b[0;32m-> 1060\u001b[0;31m             \u001b[0mself\u001b[0m\u001b[0;34m.\u001b[0m\u001b[0m_wait_for_tstate_lock\u001b[0m\u001b[0;34m(\u001b[0m\u001b[0;34m)\u001b[0m\u001b[0;34m\u001b[0m\u001b[0;34m\u001b[0m\u001b[0m\n\u001b[0m\u001b[1;32m   1061\u001b[0m         \u001b[0;32melse\u001b[0m\u001b[0;34m:\u001b[0m\u001b[0;34m\u001b[0m\u001b[0;34m\u001b[0m\u001b[0m\n\u001b[1;32m   1062\u001b[0m             \u001b[0;31m# the behavior of a negative timeout isn't documented, but\u001b[0m\u001b[0;34m\u001b[0m\u001b[0;34m\u001b[0m\u001b[0m\n",
      "\u001b[0;32m~/miniconda3/envs/av/lib/python3.9/threading.py\u001b[0m in \u001b[0;36m_wait_for_tstate_lock\u001b[0;34m(self, block, timeout)\u001b[0m\n\u001b[1;32m   1078\u001b[0m \u001b[0;34m\u001b[0m\u001b[0m\n\u001b[1;32m   1079\u001b[0m         \u001b[0;32mtry\u001b[0m\u001b[0;34m:\u001b[0m\u001b[0;34m\u001b[0m\u001b[0;34m\u001b[0m\u001b[0m\n\u001b[0;32m-> 1080\u001b[0;31m             \u001b[0;32mif\u001b[0m \u001b[0mlock\u001b[0m\u001b[0;34m.\u001b[0m\u001b[0macquire\u001b[0m\u001b[0;34m(\u001b[0m\u001b[0mblock\u001b[0m\u001b[0;34m,\u001b[0m \u001b[0mtimeout\u001b[0m\u001b[0;34m)\u001b[0m\u001b[0;34m:\u001b[0m\u001b[0;34m\u001b[0m\u001b[0;34m\u001b[0m\u001b[0m\n\u001b[0m\u001b[1;32m   1081\u001b[0m                 \u001b[0mlock\u001b[0m\u001b[0;34m.\u001b[0m\u001b[0mrelease\u001b[0m\u001b[0;34m(\u001b[0m\u001b[0;34m)\u001b[0m\u001b[0;34m\u001b[0m\u001b[0;34m\u001b[0m\u001b[0m\n\u001b[1;32m   1082\u001b[0m                 \u001b[0mself\u001b[0m\u001b[0;34m.\u001b[0m\u001b[0m_stop\u001b[0m\u001b[0;34m(\u001b[0m\u001b[0;34m)\u001b[0m\u001b[0;34m\u001b[0m\u001b[0;34m\u001b[0m\u001b[0m\n",
      "\u001b[0;31mKeyboardInterrupt\u001b[0m: "
     ]
    }
   ],
   "source": [
    "import threading\n",
    "import time\n",
    "import random\n",
    "\n",
    "# Define maximum capacity of the market\n",
    "MARKET_CAPACITY = 10\n",
    "\n",
    "# Define a list to store available vegetables in the market\n",
    "market_vegetables = []\n",
    "\n",
    "# Define a lock to ensure thread-safe access to shared data\n",
    "market_lock = threading.Lock()\n",
    "\n",
    "# Function for farmers to produce vegetables and put them in the market\n",
    "def farmer_produce(vegetable):\n",
    "    while True:\n",
    "        # Simulate time taken to produce vegetables\n",
    "        time.sleep(random.uniform(1, 3))\n",
    "        \n",
    "        with market_lock:\n",
    "            if len(market_vegetables) < MARKET_CAPACITY:\n",
    "                market_vegetables.append(vegetable)\n",
    "                print(f\"Farmer produced {vegetable}. Available in the market now: {len(market_vegetables)}\")\n",
    "            else:\n",
    "                print(f\"Market is full. Farmer waits to sell {vegetable}.\")\n",
    "                while len(market_vegetables) >= MARKET_CAPACITY:\n",
    "                    market_lock.release()\n",
    "                    time.sleep(1)\n",
    "                    market_lock.acquire()\n",
    "                market_vegetables.append(vegetable)\n",
    "                print(f\"Market has space now. Farmer sold {vegetable}. Available in the market now: {len(market_vegetables)}\")\n",
    "\n",
    "# Function for consumers to purchase vegetables from the market\n",
    "def consumer_purchase(vegetable):\n",
    "    while True:\n",
    "        # Simulate time taken for a consumer to arrive at the market\n",
    "        time.sleep(random.uniform(2, 5))\n",
    "        \n",
    "        with market_lock:\n",
    "            if vegetable in market_vegetables:\n",
    "                market_vegetables.remove(vegetable)\n",
    "                print(f\"Consumer purchased {vegetable}. Remaining {vegetable}s in the market: {len(market_vegetables)}\")\n",
    "            else:\n",
    "                print(f\"{vegetable} is out of stock. Consumer waits for {vegetable}.\")\n",
    "                while vegetable not in market_vegetables:\n",
    "                    market_lock.release()\n",
    "                    time.sleep(1)\n",
    "                    market_lock.acquire()\n",
    "\n",
    "# Create threads for farmers producing vegetables\n",
    "thread_farmers = []\n",
    "for vegetable in [\"Tomato\", \"Potato\", \"Carrot\"]:\n",
    "    thread_farmer = threading.Thread(target=farmer_produce, args=(vegetable,))\n",
    "    thread_farmers.append(thread_farmer)\n",
    "    thread_farmer.start()\n",
    "\n",
    "# Create threads for consumers purchasing vegetables\n",
    "thread_consumers = []\n",
    "for vegetable in [\"Tomato\", \"Potato\", \"Carrot\"]:\n",
    "    thread_consumer = threading.Thread(target=consumer_purchase, args=(vegetable,))\n",
    "    thread_consumers.append(thread_consumer)\n",
    "    thread_consumer.start()\n",
    "\n",
    "# Wait for all farmer threads to finish\n",
    "for thread_farmer in thread_farmers:\n",
    "    thread_farmer.join()\n",
    "\n",
    "# Wait for all consumer threads to finish\n",
    "for thread_consumer in thread_consumers:\n",
    "    thread_consumer.join()\n",
    "\n"
   ]
  },
  {
   "cell_type": "markdown",
   "id": "c30bb349",
   "metadata": {},
   "source": [
    "10"
   ]
  },
  {
   "cell_type": "code",
   "execution_count": 1,
   "id": "500c781f",
   "metadata": {},
   "outputs": [
    {
     "name": "stdout",
     "output_type": "stream",
     "text": [
      "1 A 2 B C 3 D 4 E 5 Program terminated.\n"
     ]
    }
   ],
   "source": [
    "import threading\n",
    "import time\n",
    "\n",
    "# Global variable for synchronization\n",
    "mutex = threading.Lock()\n",
    "\n",
    "# Function to print numbers from 1 to 5\n",
    "def function_A():\n",
    "    for i in range(1, 6):\n",
    "        time.sleep(1)  # Simulating time-consuming task\n",
    "        with mutex:\n",
    "            print(i, end=\" \")\n",
    "   \n",
    "\n",
    "# Function to print letters A to E\n",
    "def function_B():\n",
    "    for char in 'ABCDE':\n",
    "        time.sleep(1)  # Simulating time-consuming task\n",
    "        with mutex:\n",
    "            print(char, end=\" \")\n",
    "    \n",
    "\n",
    "# Create threads\n",
    "thread_A = threading.Thread(target=function_A)\n",
    "thread_B = threading.Thread(target=function_B)\n",
    "\n",
    "# Start threads\n",
    "thread_A.start()\n",
    "thread_B.start()\n",
    "\n",
    "# Wait for both threads to complete\n",
    "thread_A.join()\n",
    "thread_B.join()\n",
    "\n",
    "print(\"Program terminated.\")\n"
   ]
  },
  {
   "cell_type": "code",
   "execution_count": null,
   "id": "295d8efb",
   "metadata": {},
   "outputs": [],
   "source": []
  }
 ],
 "metadata": {
  "kernelspec": {
   "display_name": "Python 3 (ipykernel)",
   "language": "python",
   "name": "python3"
  },
  "language_info": {
   "codemirror_mode": {
    "name": "ipython",
    "version": 3
   },
   "file_extension": ".py",
   "mimetype": "text/x-python",
   "name": "python",
   "nbconvert_exporter": "python",
   "pygments_lexer": "ipython3",
   "version": "3.9.15"
  }
 },
 "nbformat": 4,
 "nbformat_minor": 5
}
