{
 "cells": [
  {
   "cell_type": "markdown",
   "id": "d630e202",
   "metadata": {},
   "source": [
    "1a"
   ]
  },
  {
   "cell_type": "code",
   "execution_count": 5,
   "id": "114f2ea3",
   "metadata": {
    "scrolled": true
   },
   "outputs": [
    {
     "name": "stdout",
     "output_type": "stream",
     "text": [
      "True\n",
      "False\n",
      "True\n",
      "True\n"
     ]
    }
   ],
   "source": [
    "class Student:\n",
    "    pass \n",
    "class Marks:\n",
    "    pass\n",
    "s1=Student()\n",
    "s2=Student()\n",
    "m1=Marks()\n",
    "print(isinstance(s1,Student))\n",
    "print(isinstance(m1,Student))\n",
    "print(issubclass(Student,object))\n",
    "print(issubclass(Marks,object))"
   ]
  },
  {
   "cell_type": "markdown",
   "id": "b2c383df",
   "metadata": {},
   "source": [
    "1b"
   ]
  },
  {
   "cell_type": "code",
   "execution_count": 36,
   "id": "0b738720",
   "metadata": {},
   "outputs": [
    {
     "name": "stdout",
     "output_type": "stream",
     "text": [
      "Result of adding C1 and C2: 5 + 3j\n"
     ]
    }
   ],
   "source": [
    "class COMPLEX:\n",
    "    # Class variables\n",
    "    real_part = 0\n",
    "    img_part = 0\n",
    "\n",
    "    # Constructor to initialize the complex numbers\n",
    "    def __init__(self, real, img):\n",
    "        self.real_part = real\n",
    "        self.img_part = img\n",
    "\n",
    "# Create three objects C1, C2, and C3\n",
    "C1 = COMPLEX(3,4)\n",
    "C2 = COMPLEX(2,-1)  # Complex number 2 - 1j\n",
    "C3 = COMPLEX(0,0)  # Initialize C3 to store the result\n",
    "\n",
    "# Perform addition of C1 and C2\n",
    "C3.real_part = C1.real_part + C2.real_part\n",
    "C3.img_part = C1.img_part + C2.img_part\n",
    "\n",
    "# Display the result\n",
    "print(f\"Result of adding C1 and C2: {C3.real_part} + {C3.img_part}j\")"
   ]
  },
  {
   "cell_type": "markdown",
   "id": "81522734",
   "metadata": {},
   "source": [
    "2a"
   ]
  },
  {
   "cell_type": "code",
   "execution_count": 6,
   "id": "ebee4ecf",
   "metadata": {},
   "outputs": [
    {
     "name": "stdout",
     "output_type": "stream",
     "text": [
      "May god bless you\n",
      "have a sunshine on you\n",
      "happy birthday to you\n"
     ]
    }
   ],
   "source": [
    "class song:\n",
    "    def __init__(self,lyrics):\n",
    "        self.lyrics=lyrics\n",
    "    def sing_me_a_song(self):\n",
    "        for line in self.lyrics:\n",
    "            print(line)\n",
    "happy_bday=song([\"May god bless you\",\"have a sunshine on you\",\"happy birthday to you\"])\n",
    "happy_bday.sing_me_a_song()"
   ]
  },
  {
   "cell_type": "markdown",
   "id": "0deca123",
   "metadata": {},
   "source": [
    "2b"
   ]
  },
  {
   "cell_type": "code",
   "execution_count": 34,
   "id": "fcd6e4a4",
   "metadata": {},
   "outputs": [
    {
     "name": "stdout",
     "output_type": "stream",
     "text": [
      "dgj\n",
      "140\n"
     ]
    }
   ],
   "source": [
    "class Dog:\n",
    "    def __init__(self,name,size,breed='unknown',dob='unknown'):\n",
    "        self.name=name\n",
    "        self.size=size\n",
    "        self.breed=breed\n",
    "        self.dob=dob\n",
    "    def bark(self):\n",
    "        print('Woof')\n",
    "    def get_name(self):\n",
    "        print(self.name)\n",
    "    def set_name(self,nname):\n",
    "        if isinstance(nname,str) and 2<=len(nname)<=30 and nname.isalpha():\n",
    "            self.name=nname\n",
    "        else:\n",
    "            print('invalid name')\n",
    "    def dog_year(self):\n",
    "        birth_year=int(self.dob.split('-')[0])\n",
    "        current_year=2024\n",
    "        human_year=current_year-birth_year\n",
    "        dog_year=human_year*7\n",
    "        return dog_year\n",
    "d1=Dog('xyz',32,'hvnb','2004-01-02')\n",
    "d1.set_name('dgj')\n",
    "d1.get_name()\n",
    "print(d1.dog_year())"
   ]
  },
  {
   "cell_type": "markdown",
   "id": "a2ad9ad2",
   "metadata": {},
   "source": [
    "3a"
   ]
  },
  {
   "cell_type": "code",
   "execution_count": 16,
   "id": "1200e517",
   "metadata": {},
   "outputs": [
    {
     "name": "stdout",
     "output_type": "stream",
     "text": [
      "nayana is working\n",
      "Name:nayana\n",
      "Salary:200000\n",
      "salary of nayana is 200000\n"
     ]
    }
   ],
   "source": [
    "class Employee:\n",
    "    def __init__(self,name,salary):\n",
    "        self.name=name\n",
    "        self.__salary=salary\n",
    "        \n",
    "    def work(self):\n",
    "        print(f\"{self.name} is working\")        \n",
    "        \n",
    "    def show(self):\n",
    "        print(f\"Name:{self.name}\")\n",
    "        print(f\"Salary:{self.__salary}\")\n",
    "    \n",
    "e1=Employee('nayana',200000)\n",
    "e1.work()\n",
    "e1.show()\n",
    "print(f\"salary of {e1.name} is {e1._Employee__salary}\")"
   ]
  },
  {
   "cell_type": "markdown",
   "id": "d0688166",
   "metadata": {},
   "source": [
    "3b"
   ]
  },
  {
   "cell_type": "code",
   "execution_count": 20,
   "id": "ff8c0101",
   "metadata": {},
   "outputs": [
    {
     "name": "stdout",
     "output_type": "stream",
     "text": [
      "15563\n",
      "15750\n"
     ]
    }
   ],
   "source": [
    "class CreditCard:\n",
    "    def __init__(self,balance,limit):\n",
    "        self.__limit=limit\n",
    "        self.__balance=balance\n",
    "        \n",
    "    def get_balance(self):\n",
    "        print(self.__balance)\n",
    "    \n",
    "    def withdraw(self,a):\n",
    "        if self.__balance-a<self.__limit:\n",
    "            print('no sufficient balance')\n",
    "        else:\n",
    "            self.__balance-=a\n",
    "    def deposit(self,a):\n",
    "        self.__balance+=a\n",
    "\n",
    "c1=CreditCard(15563,100)\n",
    "c1.get_balance()\n",
    "c1.withdraw(100)\n",
    "c1.deposit(287)\n",
    "c1.get_balance()"
   ]
  },
  {
   "cell_type": "markdown",
   "id": "03543f4f",
   "metadata": {},
   "source": [
    "4"
   ]
  },
  {
   "cell_type": "code",
   "execution_count": 30,
   "id": "6a5f5afd",
   "metadata": {},
   "outputs": [
    {
     "name": "stdout",
     "output_type": "stream",
     "text": [
      "Mileage of bmw:35 kmph\n",
      "Mileage of audi:28kmph\n",
      "Mileage of benz:33kmph\n"
     ]
    }
   ],
   "source": [
    "from abc import ABC,abstractmethod\n",
    "class Car(ABC):\n",
    "    def __init__(self,ma):\n",
    "        self.ma=ma\n",
    "    @abstractmethod\n",
    "    def mileage(self):\n",
    "        pass\n",
    "\n",
    "class bmw(Car):\n",
    "    def mileage(self):\n",
    "        print(f\"Mileage of bmw:{self.ma} kmph\")\n",
    "\n",
    "c1=bmw(35)\n",
    "c1.mileage()\n",
    "\n",
    "class audi(Car):\n",
    "    def mileage(self):\n",
    "        print(f\"Mileage of audi:{self.ma}kmph\")\n",
    "\n",
    "c1=audi(28)\n",
    "c1.mileage()\n",
    "\n",
    "\n",
    "class benz(Car):\n",
    "    def mileage(self):\n",
    "        print(f\"Mileage of benz:{self.ma}kmph\")\n",
    "\n",
    "c1=benz(33)\n",
    "c1.mileage()"
   ]
  },
  {
   "cell_type": "markdown",
   "id": "58d4f371",
   "metadata": {},
   "source": [
    "5a"
   ]
  },
  {
   "cell_type": "code",
   "execution_count": 32,
   "id": "637dd50d",
   "metadata": {},
   "outputs": [
    {
     "name": "stdout",
     "output_type": "stream",
     "text": [
      "Person: John Doe, Age: 30\n",
      "Company: ABC Corp, Employee ID: E123\n",
      "Role: Software Engineer\n"
     ]
    }
   ],
   "source": [
    "class Person:\n",
    "    def __init__(self, name, age):\n",
    "        self.name = name\n",
    "        self.age = age\n",
    "\n",
    "    def display_info(self):\n",
    "        print(f\"Person: {self.name}, Age: {self.age}\")\n",
    "\n",
    "\n",
    "class Company:\n",
    "    def __init__(self, company_name, employee_id):\n",
    "        self.company_name = company_name\n",
    "        self.employee_id = employee_id\n",
    "\n",
    "    def display_info(self):\n",
    "        print(f\"Company: {self.company_name}, Employee ID: {self.employee_id}\")\n",
    "\n",
    "\n",
    "class Employee(Person, Company):\n",
    "    def __init__(self, name, age, company_name, employee_id, role):\n",
    "        # Call the __init__ methods of both parent classes\n",
    "        Person.__init__(self, name, age)\n",
    "        Company.__init__(self, company_name, employee_id)\n",
    "        self.role = role\n",
    "\n",
    "    def display_info(self):\n",
    "        # Call the display_info methods of both parent classes\n",
    "        Person.display_info(self)\n",
    "        Company.display_info(self)\n",
    "        print(f\"Role: {self.role}\")\n",
    "\n",
    "\n",
    "# Example usage\n",
    "employee = Employee(name=\"John Doe\", age=30, company_name=\"ABC Corp\", employee_id=\"E123\", role=\"Software Engineer\")\n",
    "employee.display_info()"
   ]
  },
  {
   "cell_type": "markdown",
   "id": "eb906d29",
   "metadata": {},
   "source": [
    "5b"
   ]
  },
  {
   "cell_type": "code",
   "execution_count": 31,
   "id": "c3d1eedd",
   "metadata": {},
   "outputs": [
    {
     "name": "stdout",
     "output_type": "stream",
     "text": [
      "Vehicle: Ferrari 488 GTB\n",
      "Color: Red\n",
      "Top Speed: 205 mph\n"
     ]
    }
   ],
   "source": [
    "class Vehicle:\n",
    "    def __init__(self, brand, model):\n",
    "        self.brand = brand\n",
    "        self.model = model\n",
    "\n",
    "    def display_info(self):\n",
    "        print(f\"Vehicle: {self.brand} {self.model}\")\n",
    "\n",
    "\n",
    "class Car(Vehicle):\n",
    "    def __init__(self, brand, model, color):\n",
    "        # Call the __init__ method of the parent class (Vehicle)\n",
    "        super().__init__(brand, model)\n",
    "        self.color = color\n",
    "\n",
    "    def display_info(self):\n",
    "        # Call the display_info method of the parent class (Vehicle)\n",
    "        super().display_info()\n",
    "        print(f\"Color: {self.color}\")\n",
    "\n",
    "\n",
    "class SportsCar(Car):\n",
    "    def __init__(self, brand, model, color, top_speed):\n",
    "        # Call the __init__ method of the parent class (Car)\n",
    "        super().__init__(brand, model, color)\n",
    "        self.top_speed = top_speed\n",
    "\n",
    "    def display_info(self):\n",
    "        # Call the display_info method of the parent class (Car)\n",
    "        super().display_info()\n",
    "        print(f\"Top Speed: {self.top_speed} mph\")\n",
    "\n",
    "\n",
    "# Example usage\n",
    "sports_car = SportsCar(brand=\"Ferrari\", model=\"488 GTB\", color=\"Red\", top_speed=205)\n",
    "sports_car.display_info()"
   ]
  },
  {
   "cell_type": "code",
   "execution_count": null,
   "id": "3334aebe",
   "metadata": {},
   "outputs": [],
   "source": []
  }
 ],
 "metadata": {
  "kernelspec": {
   "display_name": "Python 3 (ipykernel)",
   "language": "python",
   "name": "python3"
  },
  "language_info": {
   "codemirror_mode": {
    "name": "ipython",
    "version": 3
   },
   "file_extension": ".py",
   "mimetype": "text/x-python",
   "name": "python",
   "nbconvert_exporter": "python",
   "pygments_lexer": "ipython3",
   "version": "3.9.15"
  }
 },
 "nbformat": 4,
 "nbformat_minor": 5
}
